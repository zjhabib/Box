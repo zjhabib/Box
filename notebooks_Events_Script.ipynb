{
  "metadata": {
    "language_info": {
      "codemirror_mode": {
        "name": "python",
        "version": 3
      },
      "file_extension": ".py",
      "mimetype": "text/x-python",
      "name": "python",
      "nbconvert_exporter": "python",
      "pygments_lexer": "ipython3",
      "version": "3.8"
    },
    "kernelspec": {
      "name": "python",
      "display_name": "Python (Pyodide)",
      "language": "python"
    }
  },
  "nbformat_minor": 4,
  "nbformat": 4,
  "cells": [
    {
      "cell_type": "markdown",
      "source": "# GET \"Download\" and \"Upload\" events in the last month using CLI",
      "metadata": {
        "tags": []
      }
    },
    {
      "cell_type": "markdown",
      "source": "### 1. First log in to the application environment using the command below with your environment name",
      "metadata": {}
    },
    {
      "cell_type": "markdown",
      "source": "**box login -n < ENVIRONMENT NAME >**",
      "metadata": {}
    },
    {
      "cell_type": "markdown",
      "source": "*If you recieved an error running above command please review the following article to configure your box app and create an environment: https://developer.box.com/guides/cli/quick-start/* ",
      "metadata": {}
    },
    {
      "cell_type": "markdown",
      "source": "---",
      "metadata": {}
    },
    {
      "cell_type": "markdown",
      "source": "### 2. Follow instructions to enter your Client ID and Client Secret for OAuth authentication",
      "metadata": {}
    },
    {
      "cell_type": "markdown",
      "source": "---",
      "metadata": {}
    },
    {
      "cell_type": "markdown",
      "source": "### 3. Confirm you are able to GET all events by running below command",
      "metadata": {}
    },
    {
      "cell_type": "markdown",
      "source": "**box events**",
      "metadata": {}
    },
    {
      "cell_type": "markdown",
      "source": "*If you recieved an error running above command please review the following link to create an environment:*  <br>                https://developer.box.com/guides/cli/quick-start/",
      "metadata": {
        "jp-MarkdownHeadingCollapsed": true,
        "tags": []
      }
    },
    {
      "cell_type": "markdown",
      "source": "---",
      "metadata": {}
    },
    {
      "cell_type": "markdown",
      "source": "### 4. Filter down events log to only see \"Download\" and \"Upload Events\" in the last month",
      "metadata": {}
    },
    {
      "cell_type": "markdown",
      "source": "**Box events --enterprise --created-after 2023-03-28 --event-types DOWNLOAD,UPLOAD**",
      "metadata": {}
    },
    {
      "cell_type": "markdown",
      "source": "*Remember to update \"created after\" date if planning on using CLI for future runs*",
      "metadata": {}
    },
    {
      "cell_type": "markdown",
      "source": "*If you recieved an error running above command please review this github link to understand the syntax of the following commands:*  <br>               https://github.com/box/boxcli/blob/main/docs/events.md#box-events",
      "metadata": {}
    },
    {
      "cell_type": "markdown",
      "source": "---",
      "metadata": {}
    },
    {
      "cell_type": "markdown",
      "source": "### 5. Update results to only show specific fields that revelant to our analysis",
      "metadata": {}
    },
    {
      "cell_type": "markdown",
      "source": "**box events --enterprise --created-after 2023-03-28 --event-types DOWNLOAD,UPLOAD  --fields type,source.item_name,created_by.name,created_by.login,event_type,created_at**",
      "metadata": {}
    },
    {
      "cell_type": "markdown",
      "source": "*In order to only get specific fields under each node you must enter Node.Subnode like above with source.item_name and created_by.name*",
      "metadata": {}
    },
    {
      "cell_type": "markdown",
      "source": "---",
      "metadata": {}
    },
    {
      "cell_type": "markdown",
      "source": "### 6. Transform output into JSON format and save to local drive",
      "metadata": {}
    },
    {
      "cell_type": "markdown",
      "source": "**box events --enterprise --created-after 2023-03-28 --event-types DOWNLOAD,UPLOAD  --fields type,source.item_name,created_by.name,created_by.login,event_type,created_at --json --save**",
      "metadata": {}
    },
    {
      "cell_type": "markdown",
      "source": "*Filename will have the following sequence \"events-yyyy-mm-dd_hh_mm_ss_ms.json\"*",
      "metadata": {}
    }
  ]
}